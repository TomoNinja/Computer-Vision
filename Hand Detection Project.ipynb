{
 "cells": [
  {
   "cell_type": "code",
   "execution_count": 10,
   "id": "be95adb2-6000-4027-9063-e11b7e958469",
   "metadata": {},
   "outputs": [],
   "source": [
    "#!pip install mediapipe"
   ]
  },
  {
   "cell_type": "code",
   "execution_count": 5,
   "id": "26a995d3-6865-4217-954e-493337bfc624",
   "metadata": {},
   "outputs": [],
   "source": [
    "#Step 1: import all necessary libraries\n",
    "import cv2\n",
    "import mediapipe as mp"
   ]
  },
  {
   "cell_type": "code",
   "execution_count": 6,
   "id": "56b9485b-24ec-4cc9-ba9c-3255a5852258",
   "metadata": {},
   "outputs": [],
   "source": [
    "#Step 2: Identify your webcam\n",
    "cap = cv2.VideoCapture(0) #Local Webcam - 0, External Webcam - 1"
   ]
  },
  {
   "cell_type": "code",
   "execution_count": 7,
   "id": "0008dbc4-79f3-4c06-9197-5b58d9bc9796",
   "metadata": {},
   "outputs": [],
   "source": [
    "#Leveraging the Mediapipe Library used for hand detection\n",
    "mpHands = mp.solutions.hands\n",
    "hands = mpHands.Hands()\n",
    "mpDraw = mp.solutions.drawing_utils"
   ]
  },
  {
   "cell_type": "code",
   "execution_count": 8,
   "id": "8e09c19e-9ee8-4356-88af-e2ddd81351ff",
   "metadata": {},
   "outputs": [],
   "source": [
    "#Step 3: Switch on Webcam \n",
    "\n",
    "while True:\n",
    "    _, img = cap.read()\n",
    "\n",
    "    #Convert image from BGR to RGB\n",
    "    imgRGB = cv2.cvtColor(img, cv2.COLOR_BGR2RGB)\n",
    "\n",
    "    #Apply Mediapipe\n",
    "    results = hands.process(imgRGB)\n",
    "    #print(results.multi_hand_landmarks)\n",
    "\n",
    "    if results.multi_hand_landmarks:\n",
    "        for handLms in results.multi_hand_landmarks:\n",
    "            #Anytime there is a detection, draw the landmark\n",
    "            for id, lm in enumerate(handLms.landmark):\n",
    "                #print(id, lm)\n",
    "                mpDraw.draw_landmarks(img, handLms, mpHands.HAND_CONNECTIONS)\n",
    "\n",
    "    \n",
    "    cv2.putText(img, \"My Hands Program\", (10, 40), cv2.FONT_HERSHEY_PLAIN, 3, (255, 255, 255), 2 )\n",
    "    cv2.imshow(\"10Alytics Hand Detection Project\", img)\n",
    "    if cv2.waitKey(1) & 0xFF == ord('q'):\n",
    "        break\n",
    "\n",
    "#Release the capture once all the processing is done \n",
    "cap.release()\n",
    "cv2.destroyAllWindows()"
   ]
  },
  {
   "cell_type": "code",
   "execution_count": null,
   "id": "9c98edb5-e340-459b-98da-b5ea2d8e5f47",
   "metadata": {},
   "outputs": [],
   "source": []
  }
 ],
 "metadata": {
  "kernelspec": {
   "display_name": "Python 3 (ipykernel)",
   "language": "python",
   "name": "python3"
  },
  "language_info": {
   "codemirror_mode": {
    "name": "ipython",
    "version": 3
   },
   "file_extension": ".py",
   "mimetype": "text/x-python",
   "name": "python",
   "nbconvert_exporter": "python",
   "pygments_lexer": "ipython3",
   "version": "3.11.5"
  }
 },
 "nbformat": 4,
 "nbformat_minor": 5
}
