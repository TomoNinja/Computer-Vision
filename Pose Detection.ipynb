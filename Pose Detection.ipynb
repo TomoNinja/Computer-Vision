{
 "cells": [
  {
   "cell_type": "code",
   "execution_count": 1,
   "id": "84ac3a19-d54b-476f-9f37-5ba1cc562997",
   "metadata": {},
   "outputs": [],
   "source": [
    "#!pip install mediapipe"
   ]
  },
  {
   "cell_type": "code",
   "execution_count": 10,
   "id": "6f8da081-0c1e-4f59-8982-8d9b85b5ea15",
   "metadata": {},
   "outputs": [],
   "source": [
    "#Step1: Import all necessary liraries\n",
    "import cv2\n",
    "import mediapipe as mp"
   ]
  },
  {
   "cell_type": "code",
   "execution_count": 11,
   "id": "c7348504-2820-4e9f-874f-e4c590f9c7b6",
   "metadata": {},
   "outputs": [],
   "source": [
    "#Step2: Identify Webcam\n",
    "cap = cv2.VideoCapture(0) #0 - Internal, 1- External\n"
   ]
  },
  {
   "cell_type": "code",
   "execution_count": 12,
   "id": "e2c8b84e-701c-4fc9-8df0-3538970b80f6",
   "metadata": {},
   "outputs": [],
   "source": [
    "#Leveraging the Mediapipe library used for Pose detection \n",
    "mpPose = mp.solutions.pose\n",
    "pose = mpPose.Pose()\n",
    "\n",
    "#pose = mpPose.Pose(static_image_mode = False, upper_body_only = False, smooth_landmarks = True, min_detection_confidence = 0.5)\n",
    "\n",
    "#To draw and connect the landmarks\n",
    "mpDraw = mp.solutions.drawing_utils"
   ]
  },
  {
   "cell_type": "code",
   "execution_count": 13,
   "id": "90a916d3-9d2b-4603-a19b-859084bde7f5",
   "metadata": {},
   "outputs": [],
   "source": [
    "#Switch on Webcam\n",
    "\n",
    "while True:\n",
    "    _, img = cap.read()\n",
    "    #Convert video/image from BGR to RGB\n",
    "    imgRGB = cv2.cvtColor(img, cv2.COLOR_BGR2RGB)\n",
    "\n",
    "    #Apply the mediapipe pose detection module for detection\n",
    "    results = pose.process(imgRGB)\n",
    "    #print(results.pose_landmarks)\n",
    "\n",
    "\n",
    "    #Draw Landmarks \n",
    "    if results.pose_landmarks:\n",
    "        mpDraw.draw_landmarks(img, results.pose_landmarks, mpPose.POSE_CONNECTIONS)\n",
    "        \n",
    "\n",
    "    cv2.putText(img, \"My Pose Detection\", (10, 50), cv2.FONT_HERSHEY_PLAIN, 2, (255,255,255), 2)\n",
    "    cv2.imshow(\"10Alytics Pose Detection\", img)\n",
    "    if cv2.waitKey(1) & 0xFF == ord('q'):\n",
    "        break\n",
    "\n",
    "#Release the capture once all processing is done\n",
    "cap.release()\n",
    "cv2.destroyAllWindows()"
   ]
  },
  {
   "cell_type": "code",
   "execution_count": null,
   "id": "1d2457de-1221-4b1e-b008-93fcf988076e",
   "metadata": {},
   "outputs": [],
   "source": []
  }
 ],
 "metadata": {
  "kernelspec": {
   "display_name": "Python 3 (ipykernel)",
   "language": "python",
   "name": "python3"
  },
  "language_info": {
   "codemirror_mode": {
    "name": "ipython",
    "version": 3
   },
   "file_extension": ".py",
   "mimetype": "text/x-python",
   "name": "python",
   "nbconvert_exporter": "python",
   "pygments_lexer": "ipython3",
   "version": "3.11.5"
  }
 },
 "nbformat": 4,
 "nbformat_minor": 5
}
